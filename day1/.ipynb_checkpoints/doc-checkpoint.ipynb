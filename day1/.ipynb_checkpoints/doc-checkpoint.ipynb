{
 "cells": [
  {
   "cell_type": "code",
   "execution_count": 1,
   "metadata": {},
   "outputs": [],
   "source": [
    "import numpy as np"
   ]
  },
  {
   "cell_type": "markdown",
   "metadata": {},
   "source": [
    "行列で与えられる確率を元に要素の位置 $(i, j)$ を１つ選択する関数．"
   ]
  },
  {
   "cell_type": "code",
   "execution_count": 2,
   "metadata": {},
   "outputs": [],
   "source": [
    "def choice(prob_matrix):\n",
    "    r = np.random.rand()\n",
    "    p_sum = 0.0\n",
    "    for pos, p in np.ndenumerate(prob_matrix):\n",
    "        p_sum += p\n",
    "        if r < p_sum:\n",
    "            return pos # tuple"
   ]
  },
  {
   "cell_type": "markdown",
   "metadata": {},
   "source": [
    "以下のような確率行列があるとする．"
   ]
  },
  {
   "cell_type": "code",
   "execution_count": 3,
   "metadata": {},
   "outputs": [
    {
     "name": "stdout",
     "output_type": "stream",
     "text": [
      "[[0.1  0.3  0.05]\n",
      " [0.45 0.09 0.01]]\n"
     ]
    }
   ],
   "source": [
    "pm = np.array([[10, 30, 5], [45, 9, 1]]) / 100\n",
    "print(pm)"
   ]
  },
  {
   "cell_type": "markdown",
   "metadata": {},
   "source": [
    "この行列 pm を使って関数 choice をテストする．「choice で要素を１つ選択」，この試行を 10000 回行い，各要素の出現確率を計算する．これは元の確率行列に概ね一致するはず．"
   ]
  },
  {
   "cell_type": "code",
   "execution_count": 4,
   "metadata": {},
   "outputs": [
    {
     "name": "stdout",
     "output_type": "stream",
     "text": [
      "[[0.1  0.31 0.05]\n",
      " [0.45 0.09 0.01]]\n"
     ]
    }
   ],
   "source": [
    "count = np.zeros(pm.shape)\n",
    "N = 10000\n",
    "for i in range(N):\n",
    "    count[choice(pm)] += 1\n",
    "count /= N\n",
    "print(np.around(count, decimals=2))"
   ]
  }
 ],
 "metadata": {
  "kernelspec": {
   "display_name": "Python 3",
   "language": "python",
   "name": "python3"
  },
  "language_info": {
   "codemirror_mode": {
    "name": "ipython",
    "version": 3
   },
   "file_extension": ".py",
   "mimetype": "text/x-python",
   "name": "python",
   "nbconvert_exporter": "python",
   "pygments_lexer": "ipython3",
   "version": "3.6.9"
  }
 },
 "nbformat": 4,
 "nbformat_minor": 4
}
