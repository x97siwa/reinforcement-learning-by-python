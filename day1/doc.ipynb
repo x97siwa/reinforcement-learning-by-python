{
 "cells": [
  {
   "cell_type": "code",
   "execution_count": 4,
   "metadata": {},
   "outputs": [
    {
     "name": "stdout",
     "output_type": "stream",
     "text": [
      "-5 mod 4 = 3\n",
      "-4 mod 4 = 0\n",
      "-3 mod 4 = 1\n",
      "-2 mod 4 = 2\n",
      "-1 mod 4 = 3\n",
      "0 mod 4 = 0\n",
      "1 mod 4 = 1\n",
      "2 mod 4 = 2\n",
      "3 mod 4 = 3\n",
      "4 mod 4 = 0\n"
     ]
    }
   ],
   "source": [
    "for i in range(-5, 5, 1):\n",
    "    print('%d mod 4 = %d'%(i, i%4))"
   ]
  },
  {
   "cell_type": "code",
   "execution_count": null,
   "metadata": {},
   "outputs": [],
   "source": []
  }
 ],
 "metadata": {
  "kernelspec": {
   "display_name": "Python 3",
   "language": "python",
   "name": "python3"
  },
  "language_info": {
   "codemirror_mode": {
    "name": "ipython",
    "version": 3
   },
   "file_extension": ".py",
   "mimetype": "text/x-python",
   "name": "python",
   "nbconvert_exporter": "python",
   "pygments_lexer": "ipython3",
   "version": "3.6.9"
  }
 },
 "nbformat": 4,
 "nbformat_minor": 4
}
