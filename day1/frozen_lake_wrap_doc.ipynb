{
 "cells": [
  {
   "cell_type": "markdown",
   "metadata": {},
   "source": [
    "# frozen_lake_wrap.py"
   ]
  },
  {
   "cell_type": "code",
   "execution_count": 1,
   "metadata": {},
   "outputs": [],
   "source": [
    "from frozen_lake_wrap import FrozenLake, Action\n",
    "import random"
   ]
  },
  {
   "cell_type": "code",
   "execution_count": 11,
   "metadata": {},
   "outputs": [
    {
     "name": "stdout",
     "output_type": "stream",
     "text": [
      "Starting point: (0, 0)\n",
      "(Action.RIGHT) [s=(0, 0)], [r=0.0], [done=False], [info={'prob': 0.3333333333333333}]\n",
      "(Action.DOWN) [s=(0, 1)], [r=0.0], [done=False], [info={'prob': 0.3333333333333333}]\n",
      "(Action.DOWN) [s=(0, 0)], [r=0.0], [done=False], [info={'prob': 0.3333333333333333}]\n",
      "(Action.DOWN) [s=(0, 0)], [r=0.0], [done=False], [info={'prob': 0.3333333333333333}]\n",
      "(Action.RIGHT) [s=(0, 1)], [r=0.0], [done=False], [info={'prob': 0.3333333333333333}]\n",
      "(Action.RIGHT) [s=(0, 1)], [r=0.0], [done=False], [info={'prob': 0.3333333333333333}]\n",
      "(Action.RIGHT) [s=(0, 1)], [r=0.0], [done=False], [info={'prob': 0.3333333333333333}]\n",
      "(Action.RIGHT) [s=(1, 1)], [r=0.0], [done=True], [info={'prob': 0.3333333333333333}]\n",
      "Game Over...\n"
     ]
    }
   ],
   "source": [
    "env = FrozenLake(map_name='4x4', is_slippery=True)\n",
    "\n",
    "def step(action):\n",
    "    s, r, done, info = env.step(action)\n",
    "    print('(%s) [s=%s], [r=%s], [done=%s], [info=%s]'%(action, s, r, done, info))\n",
    "    return s, done\n",
    "\n",
    "done = False\n",
    "actions = list(Action)\n",
    "\n",
    "s = env.reset()\n",
    "print('Starting point: %s'%str(s))\n",
    "while not done:\n",
    "    s, done = step(random.choice(actions))\n",
    "\n",
    "i, j = s\n",
    "if env.map[i][j] == 'H':\n",
    "    print('Game Over...')\n",
    "else:\n",
    "    print('Game Clear!')\n",
    "\n",
    "env.close()"
   ]
  },
  {
   "cell_type": "code",
   "execution_count": null,
   "metadata": {},
   "outputs": [],
   "source": []
  }
 ],
 "metadata": {
  "kernelspec": {
   "display_name": "Python 3",
   "language": "python",
   "name": "python3"
  },
  "language_info": {
   "codemirror_mode": {
    "name": "ipython",
    "version": 3
   },
   "file_extension": ".py",
   "mimetype": "text/x-python",
   "name": "python",
   "nbconvert_exporter": "python",
   "pygments_lexer": "ipython3",
   "version": "3.6.9"
  }
 },
 "nbformat": 4,
 "nbformat_minor": 4
}
