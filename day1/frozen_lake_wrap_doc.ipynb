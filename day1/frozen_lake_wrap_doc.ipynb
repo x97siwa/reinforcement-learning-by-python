{
 "cells": [
  {
   "cell_type": "markdown",
   "metadata": {},
   "source": [
    "# frozen_lake_wrap.py"
   ]
  },
  {
   "cell_type": "code",
   "execution_count": 1,
   "metadata": {},
   "outputs": [],
   "source": [
    "from frozen_lake_wrap import FrozenLake, Action\n",
    "import random"
   ]
  },
  {
   "cell_type": "code",
   "execution_count": 9,
   "metadata": {},
   "outputs": [
    {
     "name": "stdout",
     "output_type": "stream",
     "text": [
      "# Step[0] (Action.LEFT)@(0, 0)\n",
      "[[0.66666667 0.         0.         0.        ]\n",
      " [0.33333333 0.         0.         0.        ]\n",
      " [0.         0.         0.         0.        ]\n",
      " [0.         0.         0.         0.        ]]\n",
      "[ s=(0, 0), r=0.0, done=False ]\n",
      "\n",
      "# Step[1] (Action.DOWN)@(0, 0)\n",
      "[[0.33333333 0.33333333 0.         0.        ]\n",
      " [0.33333333 0.         0.         0.        ]\n",
      " [0.         0.         0.         0.        ]\n",
      " [0.         0.         0.         0.        ]]\n",
      "[ s=(0, 0), r=0.0, done=False ]\n",
      "\n",
      "# Step[2] (Action.DOWN)@(0, 0)\n",
      "[[0.33333333 0.33333333 0.         0.        ]\n",
      " [0.33333333 0.         0.         0.        ]\n",
      " [0.         0.         0.         0.        ]\n",
      " [0.         0.         0.         0.        ]]\n",
      "[ s=(1, 0), r=0.0, done=False ]\n",
      "\n",
      "# Step[3] (Action.DOWN)@(1, 0)\n",
      "[[0.         0.         0.         0.        ]\n",
      " [0.33333333 0.33333333 0.         0.        ]\n",
      " [0.33333333 0.         0.         0.        ]\n",
      " [0.         0.         0.         0.        ]]\n",
      "[ s=(1, 1), r=0.0, done=True ]\n",
      "\n",
      "Game Over...\n"
     ]
    }
   ],
   "source": [
    "env = FrozenLake(map_name='4x4', is_slippery=True)\n",
    "actions = list(Action)\n",
    "\n",
    "done = False\n",
    "step = 0\n",
    "s = env.reset()\n",
    "\n",
    "while not done:\n",
    "    a = random.choice(actions)\n",
    "    print('# Step[%d] (%s)@%s'%(step, a, s))\n",
    "    print(env.transition_func(s, a))\n",
    "    s, r, done, info = env.step(a)\n",
    "    print('[ s=%s, r=%s, done=%s ]\\n'%(s, r, done))\n",
    "    step+=1\n",
    "    \n",
    "i, j = s\n",
    "if env.map[i][j] == 'H':\n",
    "    print('Game Over...')\n",
    "else:\n",
    "    print('Game Clear!')\n",
    "\n",
    "env.close()"
   ]
  },
  {
   "cell_type": "code",
   "execution_count": null,
   "metadata": {},
   "outputs": [],
   "source": []
  },
  {
   "cell_type": "code",
   "execution_count": null,
   "metadata": {},
   "outputs": [],
   "source": []
  }
 ],
 "metadata": {
  "kernelspec": {
   "display_name": "Python 3",
   "language": "python",
   "name": "python3"
  },
  "language_info": {
   "codemirror_mode": {
    "name": "ipython",
    "version": 3
   },
   "file_extension": ".py",
   "mimetype": "text/x-python",
   "name": "python",
   "nbconvert_exporter": "python",
   "pygments_lexer": "ipython3",
   "version": "3.6.9"
  }
 },
 "nbformat": 4,
 "nbformat_minor": 4
}
