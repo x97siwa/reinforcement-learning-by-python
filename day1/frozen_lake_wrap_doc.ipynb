{
 "cells": [
  {
   "cell_type": "markdown",
   "metadata": {},
   "source": [
    "# frozen_lake_wrap.py"
   ]
  },
  {
   "cell_type": "code",
   "execution_count": 2,
   "metadata": {},
   "outputs": [],
   "source": [
    "from frozen_lake_wrap import FrozenLake, Action\n",
    "import random"
   ]
  },
  {
   "cell_type": "code",
   "execution_count": 3,
   "metadata": {},
   "outputs": [
    {
     "name": "stdout",
     "output_type": "stream",
     "text": [
      "# Step[0] (Action.LEFT)@(0, 0)\n",
      "[[0.66666667 0.         0.         0.        ]\n",
      " [0.33333333 0.         0.         0.        ]\n",
      " [0.         0.         0.         0.        ]\n",
      " [0.         0.         0.         0.        ]]\n",
      "[ s=(0, 0), r=0.0, done=False ]\n",
      "\n",
      "# Step[1] (Action.UP)@(0, 0)\n",
      "[[0.66666667 0.33333333 0.         0.        ]\n",
      " [0.         0.         0.         0.        ]\n",
      " [0.         0.         0.         0.        ]\n",
      " [0.         0.         0.         0.        ]]\n",
      "[ s=(0, 1), r=0.0, done=False ]\n",
      "\n",
      "# Step[2] (Action.UP)@(0, 1)\n",
      "[[0.33333333 0.33333333 0.33333333 0.        ]\n",
      " [0.         0.         0.         0.        ]\n",
      " [0.         0.         0.         0.        ]\n",
      " [0.         0.         0.         0.        ]]\n",
      "[ s=(0, 2), r=0.0, done=False ]\n",
      "\n",
      "# Step[3] (Action.UP)@(0, 2)\n",
      "[[0.         0.33333333 0.33333333 0.33333333]\n",
      " [0.         0.         0.         0.        ]\n",
      " [0.         0.         0.         0.        ]\n",
      " [0.         0.         0.         0.        ]]\n",
      "[ s=(0, 2), r=0.0, done=False ]\n",
      "\n",
      "# Step[4] (Action.DOWN)@(0, 2)\n",
      "[[0.         0.33333333 0.         0.33333333]\n",
      " [0.         0.         0.33333333 0.        ]\n",
      " [0.         0.         0.         0.        ]\n",
      " [0.         0.         0.         0.        ]]\n",
      "[ s=(0, 1), r=0.0, done=False ]\n",
      "\n",
      "# Step[5] (Action.UP)@(0, 1)\n",
      "[[0.33333333 0.33333333 0.33333333 0.        ]\n",
      " [0.         0.         0.         0.        ]\n",
      " [0.         0.         0.         0.        ]\n",
      " [0.         0.         0.         0.        ]]\n",
      "[ s=(0, 0), r=0.0, done=False ]\n",
      "\n",
      "# Step[6] (Action.UP)@(0, 0)\n",
      "[[0.66666667 0.33333333 0.         0.        ]\n",
      " [0.         0.         0.         0.        ]\n",
      " [0.         0.         0.         0.        ]\n",
      " [0.         0.         0.         0.        ]]\n",
      "[ s=(0, 1), r=0.0, done=False ]\n",
      "\n",
      "# Step[7] (Action.LEFT)@(0, 1)\n",
      "[[0.33333333 0.33333333 0.         0.        ]\n",
      " [0.         0.33333333 0.         0.        ]\n",
      " [0.         0.         0.         0.        ]\n",
      " [0.         0.         0.         0.        ]]\n",
      "[ s=(1, 1), r=0.0, done=True ]\n",
      "\n",
      "Game Over...\n"
     ]
    }
   ],
   "source": [
    "env = FrozenLake(map_name='4x4', is_slippery=True)\n",
    "\n",
    "done = False\n",
    "step = 0\n",
    "s = env.reset()\n",
    "\n",
    "while not done:\n",
    "    a = Action.choice()\n",
    "    print('# Step[%d] (%s)@%s'%(step, a, s))\n",
    "    print(env.T[s][a])\n",
    "    s, r, done = env.step(a)\n",
    "    print('[ s=%s, r=%s, done=%s ]\\n'%(s, r, done))\n",
    "    step+=1\n",
    "    \n",
    "i, j = s\n",
    "if env.map[i][j] == 'H':\n",
    "    print('Game Over...')\n",
    "else:\n",
    "    print('Game Clear!')\n",
    "\n",
    "env.close()"
   ]
  },
  {
   "cell_type": "code",
   "execution_count": 4,
   "metadata": {},
   "outputs": [
    {
     "name": "stdout",
     "output_type": "stream",
     "text": [
      "[[0. 0. 0. 0.]\n",
      " [0. 0. 0. 0.]\n",
      " [0. 0. 0. 0.]\n",
      " [0. 0. 0. 1.]]\n"
     ]
    }
   ],
   "source": [
    "print(env.R)"
   ]
  }
 ],
 "metadata": {
  "kernelspec": {
   "display_name": "Python 3",
   "language": "python",
   "name": "python3"
  },
  "language_info": {
   "codemirror_mode": {
    "name": "ipython",
    "version": 3
   },
   "file_extension": ".py",
   "mimetype": "text/x-python",
   "name": "python",
   "nbconvert_exporter": "python",
   "pygments_lexer": "ipython3",
   "version": "3.6.9"
  }
 },
 "nbformat": 4,
 "nbformat_minor": 4
}
